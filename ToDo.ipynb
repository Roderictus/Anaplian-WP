{
 "cells": [
  {
   "cell_type": "markdown",
   "metadata": {},
   "source": [
    "1. Decimales\n",
    "2. Imagen Satelital\n",
    "3. Resto de las ANP\n",
    "4. Madagascar\n",
    "5. Videos para Parques Nacionales\n",
    "6. Menu de Productos \n"
   ]
  }
 ],
 "metadata": {
  "language_info": {
   "name": "python"
  }
 },
 "nbformat": 4,
 "nbformat_minor": 2
}
